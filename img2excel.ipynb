{
 "cells": [
  {
   "cell_type": "code",
   "execution_count": 8,
   "metadata": {
    "collapsed": true
   },
   "outputs": [],
   "source": [
    "#!/usr/bin/env python\n",
    "# coding:utf-8\n",
    "__author__ = \"zom-1\"\n",
    "__version__ = \"0.5.1\"\n",
    "__date__ = \"2016/03/18\""
   ]
  },
  {
   "cell_type": "code",
   "execution_count": 9,
   "metadata": {
    "collapsed": true
   },
   "outputs": [],
   "source": [
    "import argparse\n",
    "import os\n",
    "from PIL import Image # Pillow or PIL\n",
    "from openpyxl import Workbook # library to r/w excel -> https://openpyxl.readthedocs.org/\n",
    "from openpyxl.styles import PatternFill "
   ]
  },
  {
   "cell_type": "code",
   "execution_count": 18,
   "metadata": {
    "collapsed": false
   },
   "outputs": [],
   "source": [
    "def img2Excel(imgFile, excelFile, columns):\n",
    "    ''' make a Excel mosaic picture from image '''\n",
    "    try:\n",
    "        img=Image.open(imgFile)\n",
    "    except IOError:\n",
    "        print 'cannot open', imgFile\n",
    "        quit()\n",
    "        \n",
    "    # make small image\n",
    "    orgWidth,orgHight = img.size\n",
    "    smlWidth=columns\n",
    "    smlHeight=smlWidth*orgHight/orgWidth\n",
    "    smlImg  = img.resize((smlWidth,smlHeight),Image.ANTIALIAS)\n",
    "    \n",
    "    # make excel data\n",
    "    wb = Workbook() # new excel, TODO: error check\n",
    "    ws1 = wb.active\n",
    "    ws1.title = excelFile\n",
    "    for y in range(0,smlHeight):\n",
    "      for x in range(0,smlWidth):\n",
    "        r,g,b=smlImg.getpixel((x,y))\n",
    "        c=\"{0:0>2X}{1:0>2X}{2:0>2X}\".format(r,g,b) # hex, ex)FF88CC\n",
    "        ws1.cell(row = y+1, column = x+1, value=\" \").fill = PatternFill(fill_type='solid',start_color=c, end_color=c)\n",
    "\n",
    "    # n2A1 : column num to A1 style : 1->'A',2->'B'... 27->'AA',28->'AB' \n",
    "    n2A1 = lambda n: (chr(((n-1)//26)+64) if n>26 else '') + chr((n-1)%26+65)\n",
    "    for n in range(1,smlWidth+1):\n",
    "        ws1.column_dimensions[n2A1(n)].width=2.5 # set column width, TODO: better way ???\n",
    "    wb.save(excelFile)"
   ]
  },
  {
   "cell_type": "code",
   "execution_count": 20,
   "metadata": {
    "collapsed": false
   },
   "outputs": [],
   "source": [
    "# sample \n",
    "img2Excel('namiura.jpg', 'namiura.xlsx', 80)"
   ]
  },
  {
   "cell_type": "code",
   "execution_count": 1,
   "metadata": {
    "collapsed": false
   },
   "outputs": [
    {
     "data": {
      "text/plain": [
       "'\\nif __name__ == \\'__main__\\':\\n    # args parse\\n    parser = argparse.ArgumentParser()\\n    parser.add_argument(\"-c\", \"--columns\", default=50, type=int, help=\"columns of Excel\")\\n    parser.add_argument(\"-e\", \"--excel_file\",  default=\"\",  help=\"Excel file\")\\n    parser.add_argument(\"image_file\", help=\"output a Excel of a given image\")\\n    args=parser.parse_args()\\n    if (args.excel_file): # if empty, use image basename+\\'xlsx\\'\\n      excelFile=args.excel_file\\n    else:\\n      excelFile=os.path.splitext(os.path.basename(imgFile))[0]+\".xlsx\" #\\n\\n    # exec\\n    img2Excel(args.image_file, args.excel_file, args.columns)\\n'"
      ]
     },
     "execution_count": 1,
     "metadata": {},
     "output_type": "execute_result"
    }
   ],
   "source": [
    "# code for command line\n",
    "'''\n",
    "if __name__ == '__main__':\n",
    "    # args parse\n",
    "    parser = argparse.ArgumentParser()\n",
    "    parser.add_argument(\"-c\", \"--columns\", default=50, type=int, help=\"columns of Excel\")\n",
    "    parser.add_argument(\"-e\", \"--excel_file\",  default=\"\",  help=\"Excel file\")\n",
    "    parser.add_argument(\"image_file\", help=\"output a Excel of a given image\")\n",
    "    args=parser.parse_args()\n",
    "    if (args.excel_file): # if empty, use image basename+'xlsx'\n",
    "      excelFile=args.excel_file\n",
    "    else:\n",
    "      excelFile=os.path.splitext(os.path.basename(imgFile))[0]+\".xlsx\" #\n",
    "\n",
    "    # exec\n",
    "    img2Excel(args.image_file, args.excel_file, args.columns)\n",
    "'''\n"
   ]
  },
  {
   "cell_type": "code",
   "execution_count": null,
   "metadata": {
    "collapsed": true
   },
   "outputs": [],
   "source": []
  }
 ],
 "metadata": {
  "celltoolbar": "Raw Cell Format",
  "kernelspec": {
   "display_name": "Python 2",
   "language": "python",
   "name": "python2"
  },
  "language_info": {
   "codemirror_mode": {
    "name": "ipython",
    "version": 2
   },
   "file_extension": ".py",
   "mimetype": "text/x-python",
   "name": "python",
   "nbconvert_exporter": "python",
   "pygments_lexer": "ipython2",
   "version": "2.7.10"
  }
 },
 "nbformat": 4,
 "nbformat_minor": 0
}
